{
 "cells": [
  {
   "cell_type": "markdown",
   "metadata": {},
   "source": [
    "### Getting Started With Python & Data Analysis\n",
    "#### Data is the core of data science, hence, scoping and collecting the right data for a project is very crucial to achieving the required results. A complete Data Science Pipeline involves \n",
    "#### 1. Data Scoping\n",
    "#### 2. Data Review\n",
    "#### 3. Feature engineering \n",
    "#### 4. Feature Review \n",
    "#### 5. Model Selection and review \n",
    "#### 6. Model Evaluation and Insights\n",
    "#### 7. Interaction Production \n",
    "#### 8. Feedback"
   ]
  },
  {
   "cell_type": "markdown",
   "metadata": {},
   "source": [
    "#### Conducting Exploratory Data Analysis (EDA) on the cleaned data using visualisations and statistical methods gives a quick insight into the various patterns and relationships between features in the dataset. Modelling involves using statistical and machine learning methods for classifying and clustering the processed data to create predictive models. Several evaluation methods are employed to compare the performance of these models and continuously improve before a final model is selected.\n",
    "\n",
    "#### For the most part, the data science pipeline is not a linear process; it’s instead an iterative process."
   ]
  },
  {
   "cell_type": "markdown",
   "metadata": {},
   "source": [
    "#### Data can be presented in different forms such as CSV, JSON, Excel files, database etc. Python is very efficient in processing and wrangling most data types. The libraries Include Numpy, Pandas , Matplotlib , Scikit-Learn and TensorFlow."
   ]
  },
  {
   "cell_type": "markdown",
   "metadata": {},
   "source": [
    "#### Jupyter notebook is an interactive web environment that supports many programming languages including Python and R, allowing for explanatory text, images and visualisation."
   ]
  },
  {
   "cell_type": "markdown",
   "metadata": {},
   "source": [
    "### Introduction to NumPy & Creating Arrays."
   ]
  },
  {
   "cell_type": "markdown",
   "metadata": {},
   "source": [
    "#### NumPy is a library that has ndarray as its basic data structure used to handle arrays and matrices. A NumPy array has a grid of values all of which are of the same data type, mostly integers and floats. These arrays can also be created from Python lists."
   ]
  },
  {
   "cell_type": "code",
   "execution_count": 2,
   "metadata": {},
   "outputs": [
    {
     "name": "stdout",
     "output_type": "stream",
     "text": [
      "[1, 2, 3, 4]\n",
      "<class 'list'>\n"
     ]
    }
   ],
   "source": [
    "#Importing Numpy library \n",
    "import numpy as np \n",
    "\n",
    "arr = [1,2,3,4]  #Created a simple list and assigned it to a variable \n",
    "\n",
    "print (arr)\n",
    "print (type(arr))"
   ]
  },
  {
   "cell_type": "code",
   "execution_count": 5,
   "metadata": {},
   "outputs": [
    {
     "name": "stdout",
     "output_type": "stream",
     "text": [
      "<class 'numpy.ndarray'>\n",
      "(4,)\n",
      "int32\n",
      "1\n"
     ]
    }
   ],
   "source": [
    "#Converting the list arr to an Array \n",
    "a = np.array(arr)\n",
    "\n",
    "print(type(a)) # The type of ellemnt which is a numpy array\n",
    "\n",
    "print(a.shape) # The shape of the array which is (4,0)\n",
    "\n",
    "print(a.dtype) # The type of data in the array which is int\n",
    "\n",
    "print(a.ndim) # The number of dimension which is 1"
   ]
  },
  {
   "cell_type": "code",
   "execution_count": 8,
   "metadata": {},
   "outputs": [
    {
     "name": "stdout",
     "output_type": "stream",
     "text": [
      "(2, 4)\n",
      "2\n"
     ]
    }
   ],
   "source": [
    "# Lets create a two dimentional array\n",
    "b= np.array([[1,2,3,4],[5,6,7,8]])\n",
    "\n",
    "print(b.shape) # The shape of the array where the first dimension has 2 elements and the second has 4.\n",
    "\n",
    "print(b.ndim) # The dimension of the array"
   ]
  },
  {
   "cell_type": "markdown",
   "metadata": {},
   "source": [
    "#### There are also some inbuilt functions that can be used to initialize numpy which include empty(), zeros(), ones(), full(), random.random()."
   ]
  },
  {
   "cell_type": "code",
   "execution_count": 11,
   "metadata": {},
   "outputs": [
    {
     "name": "stdout",
     "output_type": "stream",
     "text": [
      "[0. 0. 0. 0. 0.]\n"
     ]
    }
   ],
   "source": [
    "zero_array = np.zeros(5) #Takes the number of zeros as an argument \n",
    "\n",
    "print(zero_array)"
   ]
  },
  {
   "cell_type": "code",
   "execution_count": 14,
   "metadata": {},
   "outputs": [
    {
     "name": "stdout",
     "output_type": "stream",
     "text": [
      "[[4.24399158e-314 8.48798317e-314]\n",
      " [1.27319747e-313 1.69759663e-313]]\n"
     ]
    }
   ],
   "source": [
    "empty_array =np.empty([2,2]) #Takes an array or integer as an argument\n",
    "\n",
    "print(empty_array)"
   ]
  },
  {
   "cell_type": "code",
   "execution_count": 19,
   "metadata": {},
   "outputs": [
    {
     "name": "stdout",
     "output_type": "stream",
     "text": [
      "[[1. 1. 1.]\n",
      " [1. 1. 1.]]\n",
      "-----------\n",
      "[1. 1. 1. 1. 1.]\n"
     ]
    }
   ],
   "source": [
    "one_array = np.ones([2,3])\n",
    "\n",
    "one_array2 = np.ones(5)\n",
    "\n",
    "print(one_array)\n",
    "print('-----------')\n",
    "print(one_array2)"
   ]
  },
  {
   "cell_type": "code",
   "execution_count": 21,
   "metadata": {},
   "outputs": [
    {
     "data": {
      "text/plain": [
       "array([[10, 10],\n",
       "       [10, 10]])"
      ]
     },
     "execution_count": 21,
     "metadata": {},
     "output_type": "execute_result"
    }
   ],
   "source": [
    "np.full((2,2),10)"
   ]
  },
  {
   "cell_type": "code",
   "execution_count": 22,
   "metadata": {},
   "outputs": [
    {
     "data": {
      "text/plain": [
       "array([[1, 2],\n",
       "       [1, 2]])"
      ]
     },
     "execution_count": 22,
     "metadata": {},
     "output_type": "execute_result"
    }
   ],
   "source": [
    "np.full((2,2),[1,2])"
   ]
  },
  {
   "cell_type": "code",
   "execution_count": 26,
   "metadata": {},
   "outputs": [
    {
     "data": {
      "text/plain": [
       "array([[0.34631824, 0.08418694, 0.23452772],\n",
       "       [0.17089944, 0.41017402, 0.64441591]])"
      ]
     },
     "execution_count": 26,
     "metadata": {},
     "output_type": "execute_result"
    }
   ],
   "source": [
    "np.random.random((2,3))"
   ]
  },
  {
   "cell_type": "code",
   "execution_count": null,
   "metadata": {},
   "outputs": [],
   "source": []
  }
 ],
 "metadata": {
  "kernelspec": {
   "display_name": "Python 3",
   "language": "python",
   "name": "python3"
  },
  "language_info": {
   "codemirror_mode": {
    "name": "ipython",
    "version": 3
   },
   "file_extension": ".py",
   "mimetype": "text/x-python",
   "name": "python",
   "nbconvert_exporter": "python",
   "pygments_lexer": "ipython3",
   "version": "3.8.3"
  }
 },
 "nbformat": 4,
 "nbformat_minor": 4
}
